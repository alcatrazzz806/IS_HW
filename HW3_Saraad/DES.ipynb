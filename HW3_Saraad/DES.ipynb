{
 "cells": [
  {
   "cell_type": "code",
   "execution_count": 1,
   "metadata": {
    "collapsed": true
   },
   "outputs": [],
   "source": [
    "IP = [58, 50, 42, 34, 26, 18, 10,  2,\n",
    "      60, 52, 44, 36, 28, 20, 12,  4,\n",
    "      62, 54, 46, 38, 30, 22, 14,  6,\n",
    "      64, 56, 48, 40, 32, 24, 16,  8,\n",
    "      57, 49, 41, 33, 25, 17,  9,  1,\n",
    "      59, 51, 43, 35, 27, 19, 11,  3,\n",
    "      61, 53, 45, 37, 29, 21, 13,  5,\n",
    "      63, 55, 47, 39, 31, 23, 15,  7]\n",
    "\n",
    "IP_1 = [40,  8, 48, 16, 56, 24, 64, 32,\n",
    "        39,  7, 47, 15, 55, 23, 63, 31,\n",
    "        38,  6, 46, 14, 54, 22, 62, 30,\n",
    "        37,  5, 45, 13, 53, 21, 61, 29,\n",
    "        36,  4, 44, 12, 52, 20, 60, 28,\n",
    "        35,  3, 43, 11, 51, 19, 59, 27,\n",
    "        34,  2, 42, 10, 50, 18, 58, 26,\n",
    "        33,  1, 41,  9, 49, 17, 57, 25]\n",
    "\n",
    "E = [32,  1,  2,  3,  4,  5,\n",
    "      4,  5,  6,  7,  8,  9,\n",
    "      8,  9, 10, 11, 12, 13,\n",
    "     12, 13, 14, 15, 16, 17,\n",
    "     16, 17, 18, 19, 20, 21,\n",
    "     20, 21, 22, 23, 24, 25,\n",
    "     24, 25, 26, 27, 28, 29,\n",
    "     28, 29, 30, 31, 32,  1]\n",
    "\n",
    "PC_1 = [57, 49, 41, 33, 25, 17,  9,  1,\n",
    "        58, 50, 42, 34, 26, 18, 10,  2,\n",
    "        59, 51, 43, 35, 27, 19, 11,  3,\n",
    "        60, 52, 44, 36, 63, 55, 47, 39,\n",
    "        31, 23, 15,  7, 62, 54, 46, 38,\n",
    "        30, 22, 14,  6, 61, 53, 45, 37,\n",
    "        29, 21, 13,  5, 28, 20, 12,  4]\n",
    "\n",
    "PC_2 = [14, 17, 11, 24,  1,  5,  3, 28,\n",
    "        15,  6, 21, 10, 23, 19, 12,  4,\n",
    "        26,  8, 16,  7, 27, 20, 13,  2,\n",
    "        41, 52, 31, 37, 47, 55, 30, 40,\n",
    "        51, 45, 33, 48, 44, 49, 39, 56,\n",
    "        34, 53, 46, 42, 50, 36, 29, 32]\n",
    "        \n",
    "\n",
    "S_BOX = [[[14, 4, 13, 1, 2, 15, 11, 8, 3, 10, 6, 12, 5, 9, 0, 7],\n",
    "          [0, 15, 7, 4, 14, 2, 13, 1, 10, 6, 12, 11, 9, 5, 3, 8],\n",
    "          [4, 1, 14, 8, 13, 6, 2, 11, 15, 12, 9, 7, 3, 10, 5, 0],\n",
    "          [15, 12, 8, 2, 4, 9, 1, 7, 5, 11, 3, 14, 10, 0, 6, 13],],\n",
    "\n",
    "         [[15, 1, 8, 14, 6, 11, 3, 4, 9, 7, 2, 13, 12, 0, 5, 10],\n",
    "          [3, 13, 4, 7, 15, 2, 8, 14, 12, 0, 1, 10, 6, 9, 11, 5],\n",
    "          [0, 14, 7, 11, 10, 4, 13, 1, 5, 8, 12, 6, 9, 3, 2, 15],\n",
    "          [13, 8, 10, 1, 3, 15, 4, 2, 11, 6, 7, 12, 0, 5, 14, 9],],\n",
    "\n",
    "         [[10, 0, 9, 14, 6, 3, 15, 5, 1, 13, 12, 7, 11, 4, 2, 8],\n",
    "          [13, 7, 0, 9, 3, 4, 6, 10, 2, 8, 5, 14, 12, 11, 15, 1],\n",
    "          [13, 6, 4, 9, 8, 15, 3, 0, 11, 1, 2, 12, 5, 10, 14, 7],\n",
    "          [1, 10, 13, 0, 6, 9, 8, 7, 4, 15, 14, 3, 11, 5, 2, 12],],\n",
    "\n",
    "         [[7, 13, 14, 3, 0, 6, 9, 10, 1, 2, 8, 5, 11, 12, 4, 15],\n",
    "          [13, 8, 11, 5, 6, 15, 0, 3, 4, 7, 2, 12, 1, 10, 14, 9],\n",
    "          [10, 6, 9, 0, 12, 11, 7, 13, 15, 1, 3, 14, 5, 2, 8, 4],\n",
    "          [3, 15, 0, 6, 10, 1, 13, 8, 9, 4, 5, 11, 12, 7, 2, 14],],  \n",
    "\n",
    "         [[2, 12, 4, 1, 7, 10, 11, 6, 8, 5, 3, 15, 13, 0, 14, 9],\n",
    "          [14, 11, 2, 12, 4, 7, 13, 1, 5, 0, 15, 10, 3, 9, 8, 6],\n",
    "          [4, 2, 1, 11, 10, 13, 7, 8, 15, 9, 12, 5, 6, 3, 0, 14],\n",
    "          [11, 8, 12, 7, 1, 14, 2, 13, 6, 15, 0, 9, 10, 4, 5, 3],], \n",
    "\n",
    "         [[12, 1, 10, 15, 9, 2, 6, 8, 0, 13, 3, 4, 14, 7, 5, 11],\n",
    "          [10, 15, 4, 2, 7, 12, 9, 5, 6, 1, 13, 14, 0, 11, 3, 8],\n",
    "          [9, 14, 15, 5, 2, 8, 12, 3, 7, 0, 4, 10, 1, 13, 11, 6],\n",
    "          [4, 3, 2, 12, 9, 5, 15, 10, 11, 14, 1, 7, 6, 0, 8, 13],], \n",
    "\n",
    "         [[4, 11, 2, 14, 15, 0, 8, 13, 3, 12, 9, 7, 5, 10, 6, 1],\n",
    "          [13, 0, 11, 7, 4, 9, 1, 10, 14, 3, 5, 12, 2, 15, 8, 6],\n",
    "          [1, 4, 11, 13, 12, 3, 7, 14, 10, 15, 6, 8, 0, 5, 9, 2],\n",
    "          [6, 11, 13, 8, 1, 4, 10, 7, 9, 5, 0, 15, 14, 2, 3, 12],],\n",
    "   \n",
    "         [[13, 2, 8, 4, 6, 15, 11, 1, 10, 9, 3, 14, 5, 0, 12, 7],\n",
    "          [1, 15, 13, 8, 10, 3, 7, 4, 12, 5, 6, 11, 0, 14, 9, 2],\n",
    "          [7, 11, 4, 1, 9, 12, 14, 2, 0, 6, 10, 13, 15, 3, 5, 8],\n",
    "          [2, 1, 14, 7, 4, 10, 8, 13, 15, 12, 9, 0, 3, 5, 6, 11],]]\n",
    "\n",
    "P = [16,  7, 20, 21, 29, 12, 28, 17,\n",
    "      1, 15, 23, 26,  5, 18, 31, 10,\n",
    "      2,  8, 24, 14, 32, 27,  3,  9,\n",
    "     19, 13, 30,  6, 22, 11,  4, 25]\n",
    "\n",
    "KEY_SCHEDULE = [1,1,2,2,2,2,2,2,1,2,2,2,2,2,2,1]"
   ]
  },
  {
   "cell_type": "code",
   "execution_count": 2,
   "metadata": {
    "collapsed": true
   },
   "outputs": [],
   "source": [
    "# For permutation or expansion\n",
    "def permute(txt, permute_table):\n",
    "    result = \"\"\n",
    "    for i in range(len(permute_table)):\n",
    "        index = permute_table[i]\n",
    "        result = result + txt[index - 1]\n",
    "        \n",
    "    return result    "
   ]
  },
  {
   "cell_type": "code",
   "execution_count": 3,
   "metadata": {
    "collapsed": true
   },
   "outputs": [],
   "source": [
    "# Generate all 16 round keys at once\n",
    "def generateRoundKey(key):\n",
    "    roundkey = []\n",
    "    key_56 = permute(key, PC_1)\n",
    "    tmp_key_56 = key_56\n",
    "    for shamt in KEY_SCHEDULE:\n",
    "        left_key = tmp_key_56[:28]\n",
    "        right_key = tmp_key_56[28:]\n",
    "    \n",
    "        left_key = left_key[shamt:28] + left_key[:shamt]\n",
    "        right_key = right_key[shamt:28] + right_key[:shamt]\n",
    "        rkey = left_key + right_key\n",
    "        tmp_key_56 = rkey\n",
    "        rkey = permute(rkey, PC_2)\n",
    "        roundkey.append(rkey)\n",
    "\n",
    "    return roundkey    "
   ]
  },
  {
   "cell_type": "code",
   "execution_count": 4,
   "metadata": {
    "collapsed": true
   },
   "outputs": [],
   "source": [
    "# XOR for two binary string\n",
    "def xor(bin1, bin2):\n",
    "    result = \"\"\n",
    "    for i in range(len(bin1)):\n",
    "        result = result + str(int(bin1[i]) ^ int(bin2[i]))\n",
    "        \n",
    "    return result    "
   ]
  },
  {
   "cell_type": "code",
   "execution_count": 5,
   "metadata": {
    "collapsed": true
   },
   "outputs": [],
   "source": [
    "# F-function, including expansion, XOR, S-box, and last permutation\n",
    "def fFunction(right_plain_text, rkey):\n",
    "    expanded = permute(right_plain_text, E)\n",
    "    tmp = xor(expanded, rkey)\n",
    "   \n",
    "    all_s = \"\"\n",
    "    # Since there are 8 S-boxes\n",
    "    for i in range(8):\n",
    "        tmp_s = tmp[6 * i : 6 * i + 6]\n",
    "        # Convert row and col to decimal\n",
    "        S_box_row = int((tmp_s[0] + tmp_s[5]), 2)\n",
    "        S_box_col = int((tmp_s[1:5]), 2)\n",
    "        S_box_value = S_BOX[i][S_box_row][S_box_col]\n",
    "        # Convert back to binary\n",
    "        s = f\"{S_box_value:0>4b}\"\n",
    "        all_s = all_s + s\n",
    "    result = permute(all_s, P)\n",
    "    \n",
    "    return result"
   ]
  },
  {
   "cell_type": "code",
   "execution_count": 6,
   "metadata": {},
   "outputs": [],
   "source": [
    "def DES_encrypt(plain_text, key):\n",
    "    text_first_permute = permute(plain_text, IP)\n",
    "    roundkey = generateRoundKey(key)\n",
    "    text = text_first_permute\n",
    "    \n",
    "    for i in range(16):\n",
    "        text_left = text[:32]\n",
    "        text_right = text[32:]        \n",
    "        text = text_right + xor(text_left, fFunction(text_right, roundkey[i]))\n",
    "    \n",
    "    text_left = text[:32]\n",
    "    text_right = text[32:]\n",
    "    text = text_right + text_left\n",
    "    text = permute(text, IP_1)\n",
    "    \n",
    "    return f'{int(text, 2):0>16X}'"
   ]
  },
  {
   "cell_type": "code",
   "execution_count": 7,
   "metadata": {
    "collapsed": true
   },
   "outputs": [],
   "source": [
    "def DES_decrypt(cipher_text, key):\n",
    "    text_first_permute = permute(cipher_text, IP)\n",
    "    roundkey = generateRoundKey(key)\n",
    "    text = text_first_permute\n",
    "    \n",
    "    for i in range(16):\n",
    "        text_left = text[:32]\n",
    "        text_right = text[32:]        \n",
    "        text = text_right + xor(text_left, fFunction(text_right, roundkey[16 - 1 - i]))\n",
    "    \n",
    "    text_left = text[:32]\n",
    "    text_right = text[32:]\n",
    "    text = text_right + text_left\n",
    "    text = permute(text, IP_1)\n",
    "    \n",
    "    return f'{int(text, 2):0>16X}'"
   ]
  },
  {
   "cell_type": "code",
   "execution_count": 10,
   "metadata": {},
   "outputs": [],
   "source": [
    "def main():\n",
    "    plain_text = input(\"Please type your plaintext in hexadecimal:(ABCDEF0123456789)\\n\")\n",
    "    plain_text = f'{int(plain_text, 16):0>64b}'\n",
    "\n",
    "    key = input(\"Please type your key in hexadecimal:(AFAFAFAFAFAFAFAF)\\n\")\n",
    "    key = f'{int(key, 16):0>64b}'\n",
    "\n",
    "    encrypted = DES_encrypt(plain_text, key)\n",
    "    print(\"DES Encrypted result: \", encrypted)\n",
    "\n",
    "    cipher_text = input(\"Please type your ciphertext in hexadecimal:(4C30FC30FB2B0BFF)\\n\")\n",
    "    cipher_text = f'{int(cipher_text, 16):0>64b}'\n",
    "\n",
    "    key = input(\"Please type your key in hexadecimal:(AFAFAFAFAFAFAFAF)\\n\")\n",
    "    key = f'{int(key, 16):0>64b}'\n",
    "\n",
    "    decrypted = DES_decrypt(cipher_text, key)\n",
    "    print(\"DES Decrypted result: \", decrypted)"
   ]
  },
  {
   "cell_type": "code",
   "execution_count": 11,
   "metadata": {},
   "outputs": [
    {
     "name": "stdout",
     "output_type": "stream",
     "text": [
      "Please type your plaintext in hexadecimal:(ABCDEF0123456789)\n",
      "ABCDEF0123456789\n",
      "Please type your key in hexadecimal:(AFAFAFAFAFAFAFAF)\n",
      "AFAFAFAFAFAFAFAF\n",
      "DES Encrypted result:  4C30FC30FB2B0BFF\n",
      "Please type your ciphertext in hexadecimal:(4C30FC30FB2B0BFF)\n",
      "4C30FC30FB2B0BFF\n",
      "Please type your key in hexadecimal:(AFAFAFAFAFAFAFAF)\n",
      "AFAFAFAFAFAFAFAF\n",
      "DES Decrypted result:  ABCDEF0123456789\n"
     ]
    }
   ],
   "source": [
    "if __name__ == '__main__':\n",
    "    main()"
   ]
  },
  {
   "cell_type": "code",
   "execution_count": null,
   "metadata": {
    "collapsed": true
   },
   "outputs": [],
   "source": []
  }
 ],
 "metadata": {
  "kernelspec": {
   "display_name": "Python 3",
   "language": "python",
   "name": "python3"
  },
  "language_info": {
   "codemirror_mode": {
    "name": "ipython",
    "version": 3
   },
   "file_extension": ".py",
   "mimetype": "text/x-python",
   "name": "python",
   "nbconvert_exporter": "python",
   "pygments_lexer": "ipython3",
   "version": "3.6.1"
  }
 },
 "nbformat": 4,
 "nbformat_minor": 2
}
